{
 "cells": [
  {
   "cell_type": "markdown",
   "id": "100d6ca7-ca18-4d53-bbfa-83d8fdae785f",
   "metadata": {},
   "source": [
    "**RNA para Reconhecimento de Placas Veiculares em imagens**"
   ]
  },
  {
   "cell_type": "markdown",
   "id": "8cf47514-a9d7-49bc-b61c-7bcd09937c5b",
   "metadata": {},
   "source": [
    "Nosso objetivo é modelar uma RNA (depois comparar com uma CNN) e usar os dados de identificação de placas veiculares. Para isso, precisamos conhecer os dados. Nesta atividade, os dados de entrada, X, são apresentados por uma matriz para cada imagem. O shape da matriz X completa é (1800, 1080, 1920, 3), que significa:\n",
    "1. Há 1800 imagens na entrada na variável X;\n",
    "2. Há 1080 linhas de pixels em cada imagem;\n",
    "3. Cada linha da imagem contém 1920 colunas de pixels;\n",
    "4. Há 3 números por pixels, que são as componentes Red, Green, Blue de cada pixel.\n",
    "Esta estrutura da matriz de entrada não requer nenhuma transformação nas imagens, com possível redução de resolução. Como está, a entrada da RNA precisa ter 1080*1920 neurônios na entrada. Isso dá 2.073.600 (dois milhões, setenta e três mil e seiscentos neurônios.\n",
    "A variável Y tem a saída para cada entrada. Os dados de saída, neste estágio inicial, são formados pelos cantos do retângulo que envolve a placa localizada na imagem. Isso consiste de 8 números, sendo 4 pares de coordenadas, um para cada canto.\n",
    "Precisamos carregar essas matrizes, o que pode ser feito da seguinte forma:"
   ]
  },
  {
   "cell_type": "code",
   "execution_count": 5,
   "id": "d9ac5775-47e8-4bb5-a7c4-578b39c29169",
   "metadata": {
    "editable": true,
    "scrolled": true,
    "slideshow": {
     "slide_type": ""
    },
    "tags": []
   },
   "outputs": [
    {
     "name": "stdout",
     "output_type": "stream",
     "text": [
      "(1800, 1080, 1920, 3) (1800, 8)\n"
     ]
    }
   ],
   "source": [
    "import numpy as np\n",
    "\n",
    "def carregarMatrizes(proposito: str) -> tuple[np.ndarray, np.ndarray]:\n",
    "    X_data = np.load(f'./data/X_{proposito}.csv.npy', 'r')\n",
    "    Y_data = np.load(f'./data/Y_{proposito}.csv.npy', 'r')\n",
    "    return (X_data, Y_data)\n",
    "\n",
    "def main():\n",
    "    X_data, Y_data = carregarMatrizes('training') # ou 'validation' or 'testing'\n",
    "    print(X_data.shape, Y_data.shape)\n",
    "\n",
    "if __name__ == '__main__':\n",
    "    main()\n"
   ]
  },
  {
   "cell_type": "markdown",
   "id": "74ce54ff-537d-486b-91ab-c99700de702b",
   "metadata": {
    "editable": true,
    "slideshow": {
     "slide_type": ""
    },
    "tags": []
   },
   "source": [
    "O método carregarMatrizes é responsável por abrir o arquivo com as matrizes e carregá-lo para uma matriz em numpy. O método recebe como parâmetro o propósito do par de matrizes X e Y, que pode ser 'training', 'validation' ou 'testing'."
   ]
  },
  {
   "cell_type": "markdown",
   "id": "c75d352a-bf2b-49db-8ce5-6d4876c504d0",
   "metadata": {},
   "source": [
    "Em seguida, precisamos montar a RNA com o modelo desejado. Inicialmente, precisaremos de uma RNA com as seguintes camadas:\n",
    "1. Camada de entrada com 2.073.600 neurônios, com ativação dada pela função ReLU;\n",
    "2. Segunda camada, primeira oculta, 100.000 neurônios, completamente conectados à primeira camada, e também com ativação dada pela função ReLU;\n",
    "3. Terceira camada, segunda oculta, também 100.000 neurônios completamente conectados à segunda camada, com ativação pela ReLU;\n",
    "4. Quarta camada, de saída, com 8 neurônios completamente conectados à terceira camada."
   ]
  },
  {
   "cell_type": "markdown",
   "id": "e2994369-8531-4005-84b5-9b4828e297db",
   "metadata": {},
   "source": [
    "Nosso objetivo é modelar uma RNA (depois comparar com uma CNN) e usar os dados de identificação de placas veiculares. Para isso, precisamos conhecer os dados. Nesta atividade, os dados de entrada, X, são apresentados por uma matriz para cada imagem. O shape da matriz X completa é (1800, 1080, 1920, 3), que significa:\n",
    "1. Há 1800 imagens na entrada na variável X;\n",
    "2. Há 1080 linhas de pixels em cada imagem;\n",
    "3. Cada linha da imagem contém 1920 colunas de pixels;\n",
    "4. Há 3 números por pixels, que são as componentes Red, Green, Blue de cada pixel.\n",
    "Esta estrutura da matriz de entrada não requer nenhuma transformação nas imagens, com possível redução de resolução. Como está, a entrada da RNA precisa ter 1080*1920 neurônios na entrada. Isso dá 2.073.600 (dois milhões, setenta e três mil e seiscentos neurônios.\n",
    "A variável Y tem a saída para cada entrada. Os dados de saída, neste estágio inicial, são formados pelos cantos do retângulo que envolve a placa localizada na imagem. Isso consiste de 8 números, sendo 4 pares de coordenadas, um para cada canto.\n",
    "Precisamos carregar essas matrizes, o que pode ser feito da seguinte forma:"
   ]
  }
 ],
 "metadata": {
  "kernelspec": {
   "display_name": "Python 3 (ipykernel)",
   "language": "python",
   "name": "python3"
  },
  "language_info": {
   "codemirror_mode": {
    "name": "ipython",
    "version": 3
   },
   "file_extension": ".py",
   "mimetype": "text/x-python",
   "name": "python",
   "nbconvert_exporter": "python",
   "pygments_lexer": "ipython3",
   "version": "3.12.7"
  }
 },
 "nbformat": 4,
 "nbformat_minor": 5
}
